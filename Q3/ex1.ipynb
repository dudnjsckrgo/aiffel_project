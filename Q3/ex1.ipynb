{
 "cells": [
  {
   "cell_type": "code",
   "execution_count": 4,
   "metadata": {},
   "outputs": [
    {
     "name": "stdout",
     "output_type": "stream",
     "text": [
      "Requirement already satisfied: opencv-python in c:\\users\\dudnj\\.conda\\envs\\aiffel\\lib\\site-packages (4.8.1.78)\n",
      "Collecting dlib\n",
      "  Downloading dlib-19.24.2.tar.gz (11.8 MB)\n",
      "     ---------------------------------------- 0.0/11.8 MB ? eta -:--:--\n",
      "     - -------------------------------------- 0.4/11.8 MB 11.2 MB/s eta 0:00:02\n",
      "     -- ------------------------------------- 0.8/11.8 MB 12.1 MB/s eta 0:00:01\n",
      "     ---- ----------------------------------- 1.2/11.8 MB 12.4 MB/s eta 0:00:01\n",
      "     ----- ---------------------------------- 1.6/11.8 MB 11.0 MB/s eta 0:00:01\n",
      "     ------ --------------------------------- 2.0/11.8 MB 11.4 MB/s eta 0:00:01\n",
      "     -------- ------------------------------- 2.4/11.8 MB 11.6 MB/s eta 0:00:01\n",
      "     --------- ------------------------------ 2.7/11.8 MB 11.6 MB/s eta 0:00:01\n",
      "     ---------- ----------------------------- 3.1/11.8 MB 11.2 MB/s eta 0:00:01\n",
      "     ----------- ---------------------------- 3.5/11.8 MB 11.3 MB/s eta 0:00:01\n",
      "     ------------- -------------------------- 4.0/11.8 MB 11.5 MB/s eta 0:00:01\n",
      "     -------------- ------------------------- 4.4/11.8 MB 11.6 MB/s eta 0:00:01\n",
      "     ---------------- ----------------------- 4.8/11.8 MB 11.2 MB/s eta 0:00:01\n",
      "     ----------------- ---------------------- 5.2/11.8 MB 11.4 MB/s eta 0:00:01\n",
      "     ------------------ --------------------- 5.6/11.8 MB 11.5 MB/s eta 0:00:01\n",
      "     -------------------- ------------------- 6.0/11.8 MB 11.6 MB/s eta 0:00:01\n",
      "     --------------------- ------------------ 6.4/11.8 MB 11.3 MB/s eta 0:00:01\n",
      "     ----------------------- ---------------- 6.8/11.8 MB 11.4 MB/s eta 0:00:01\n",
      "     ------------------------ --------------- 7.2/11.8 MB 11.4 MB/s eta 0:00:01\n",
      "     ------------------------- -------------- 7.5/11.8 MB 11.5 MB/s eta 0:00:01\n",
      "     --------------------------- ------------ 8.0/11.8 MB 11.3 MB/s eta 0:00:01\n",
      "     ---------------------------- ----------- 8.4/11.8 MB 11.4 MB/s eta 0:00:01\n",
      "     ----------------------------- ---------- 8.8/11.8 MB 11.4 MB/s eta 0:00:01\n",
      "     ------------------------------- -------- 9.1/11.8 MB 11.5 MB/s eta 0:00:01\n",
      "     -------------------------------- ------- 9.5/11.8 MB 11.3 MB/s eta 0:00:01\n",
      "     --------------------------------- ------ 9.9/11.8 MB 11.4 MB/s eta 0:00:01\n",
      "     ---------------------------------- ---- 10.3/11.8 MB 11.3 MB/s eta 0:00:01\n",
      "     ----------------------------------- --- 10.8/11.8 MB 11.3 MB/s eta 0:00:01\n",
      "     ------------------------------------ -- 11.2/11.8 MB 11.3 MB/s eta 0:00:01\n",
      "     --------------------------------------  11.6/11.8 MB 11.3 MB/s eta 0:00:01\n",
      "     --------------------------------------  11.8/11.8 MB 11.5 MB/s eta 0:00:01\n",
      "     --------------------------------------  11.8/11.8 MB 11.5 MB/s eta 0:00:01\n",
      "     --------------------------------------  11.8/11.8 MB 11.5 MB/s eta 0:00:01\n",
      "     --------------------------------------  11.8/11.8 MB 11.5 MB/s eta 0:00:01\n",
      "     --------------------------------------  11.8/11.8 MB 11.5 MB/s eta 0:00:01\n",
      "     ---------------------------------------- 11.8/11.8 MB 9.6 MB/s eta 0:00:00\n",
      "  Installing build dependencies: started\n",
      "  Installing build dependencies: finished with status 'done'\n",
      "  Getting requirements to build wheel: started\n",
      "  Getting requirements to build wheel: finished with status 'done'\n",
      "  Preparing metadata (pyproject.toml): started\n",
      "  Preparing metadata (pyproject.toml): finished with status 'done'\n",
      "Requirement already satisfied: numpy>=1.17.0 in c:\\users\\dudnj\\.conda\\envs\\aiffel\\lib\\site-packages (from opencv-python) (1.26.0)\n",
      "Building wheels for collected packages: dlib\n",
      "  Building wheel for dlib (pyproject.toml): started\n",
      "  Building wheel for dlib (pyproject.toml): still running...\n",
      "  Building wheel for dlib (pyproject.toml): finished with status 'done'\n",
      "  Created wheel for dlib: filename=dlib-19.24.2-cp39-cp39-win_amd64.whl size=2840164 sha256=1801ca6fd71b0c694a56fef7ee3c6a0cb49c0c43b58eb0d178e8b865a6fefd12\n",
      "  Stored in directory: c:\\users\\dudnj\\appdata\\local\\pip\\cache\\wheels\\f7\\ae\\0e\\3478eae12f6aed0e3d4880147ca855ba5d58f2e1098c73ab5f\n",
      "Successfully built dlib\n",
      "Installing collected packages: dlib\n",
      "Successfully installed dlib-19.24.2\n",
      "Note: you may need to restart the kernel to use updated packages.\n"
     ]
    }
   ],
   "source": [
    "%pip install opencv-python dlib"
   ]
  },
  {
   "cell_type": "markdown",
   "metadata": {},
   "source": [
    "(1) 오늘 배운 np.where 를 사용해서 스티커를 적용해 주세요.\n",
    "\n",
    "(2) 스티커를 조금 더 자연스럽게 보이게 하려면 어떻게 해야 할까요? 스티커 뒤로 원본 이미지가 같이 보이도록 만들어 봅시다. opencv 의 cv2.addWeighted() 를 참고하세요."
   ]
  },
  {
   "cell_type": "markdown",
   "metadata": {},
   "source": [
    "오늘 만든 스티커앱에서 생각해볼 수 있는 문제점은 다음과 같습니다.\n",
    "\n",
    "얼굴 각도에 따라 스티커가 어떻게 변해야할까요?\n",
    "멀리서 촬영하면 왜 안될까요? 옆으로 누워서 촬영하면 왜 안될까요?\n",
    "실행 속도가 중요할까요?\n",
    "스티커앱을 만들 때 정확도가 얼마나 중요할까요?"
   ]
  },
  {
   "cell_type": "markdown",
   "metadata": {},
   "source": []
  },
  {
   "cell_type": "code",
   "execution_count": 6,
   "metadata": {},
   "outputs": [
    {
     "name": "stdout",
     "output_type": "stream",
     "text": [
      "🌫🛸\n"
     ]
    }
   ],
   "source": [
    "# 필요한 패키지 import 하기\n",
    "import os # 환경 변수나 디렉터리, 파일 등의 OS 자원을 제어할 수 있게 해주는 모듈\n",
    "import cv2 # OpenCV라이브러리 → 컴퓨터 비전 관련 프로그래밍을 쉽게 할 수 있도록 도와주는 라이브러리\n",
    "import matplotlib.pyplot as plt # 다양한 데이터를 많은 방법으로 도식화 할 수 있도록 하는 라이브러리\n",
    "import numpy as np # 다차원 배열을 쉽게 처리하고 효율적으로 사용할 수 있도록 하는 라이브러리\n",
    "import dlib # 이미지 처리 및 기계 학습, 얼굴인식 등을 할 수 있는 c++ 로 개발된 고성능의 라이브러리 \n",
    "print(\"🌫🛸\")"
   ]
  },
  {
   "cell_type": "code",
   "execution_count": null,
   "metadata": {},
   "outputs": [],
   "source": []
  },
  {
   "cell_type": "code",
   "execution_count": 8,
   "metadata": {},
   "outputs": [
    {
     "ename": "AttributeError",
     "evalue": "'NoneType' object has no attribute 'copy'",
     "output_type": "error",
     "traceback": [
      "\u001b[1;31m---------------------------------------------------------------------------\u001b[0m",
      "\u001b[1;31mAttributeError\u001b[0m                            Traceback (most recent call last)",
      "\u001b[1;32mc:\\Users\\dudnj\\ws\\aiffel\\Q3\\ex1.ipynb Cell 6\u001b[0m line \u001b[0;36m3\n\u001b[0;32m      <a href='vscode-notebook-cell:/c%3A/Users/dudnj/ws/aiffel/Q3/ex1.ipynb#X11sZmlsZQ%3D%3D?line=0'>1</a>\u001b[0m my_image_path \u001b[39m=\u001b[39m \u001b[39m'\u001b[39m\u001b[39m./스크린샷 2023-11-22 153538.png\u001b[39m\u001b[39m'\u001b[39m \u001b[39m# 본인 이미지가 있는 경로를 가지고 온다.\u001b[39;00m\n\u001b[0;32m      <a href='vscode-notebook-cell:/c%3A/Users/dudnj/ws/aiffel/Q3/ex1.ipynb#X11sZmlsZQ%3D%3D?line=1'>2</a>\u001b[0m img_bgr \u001b[39m=\u001b[39m cv2\u001b[39m.\u001b[39mimread(my_image_path)    \u001b[39m# OpenCV로 이미지를 불러옵니다\u001b[39;00m\n\u001b[1;32m----> <a href='vscode-notebook-cell:/c%3A/Users/dudnj/ws/aiffel/Q3/ex1.ipynb#X11sZmlsZQ%3D%3D?line=2'>3</a>\u001b[0m img_show \u001b[39m=\u001b[39m img_bgr\u001b[39m.\u001b[39;49mcopy()      \u001b[39m# 출력용 이미지를 따로 보관합니다\u001b[39;00m\n\u001b[0;32m      <a href='vscode-notebook-cell:/c%3A/Users/dudnj/ws/aiffel/Q3/ex1.ipynb#X11sZmlsZQ%3D%3D?line=3'>4</a>\u001b[0m plt\u001b[39m.\u001b[39mimshow(img_bgr) \u001b[39m# 이미지를 출력하기 위해 출력할 이미지를 올려준다. (실제 출력은 하지 않음)\u001b[39;00m\n\u001b[0;32m      <a href='vscode-notebook-cell:/c%3A/Users/dudnj/ws/aiffel/Q3/ex1.ipynb#X11sZmlsZQ%3D%3D?line=4'>5</a>\u001b[0m plt\u001b[39m.\u001b[39mshow() \u001b[39m# 이미지를 출력해준다. (실제 출력)\u001b[39;00m\n",
      "\u001b[1;31mAttributeError\u001b[0m: 'NoneType' object has no attribute 'copy'"
     ]
    }
   ],
   "source": [
    "my_image_path = './스크린샷 2023-11-22 153538.png' # 본인 이미지가 있는 경로를 가지고 온다.\n",
    "img_bgr = cv2.imread(my_image_path)    # OpenCV로 이미지를 불러옵니다\n",
    "img_show = img_bgr.copy()      # 출력용 이미지를 따로 보관합니다\n",
    "plt.imshow(img_bgr) # 이미지를 출력하기 위해 출력할 이미지를 올려준다. (실제 출력은 하지 않음)\n",
    "plt.show() # 이미지를 출력해준다. (실제 출력)"
   ]
  },
  {
   "cell_type": "code",
   "execution_count": null,
   "metadata": {},
   "outputs": [],
   "source": []
  }
 ],
 "metadata": {
  "kernelspec": {
   "display_name": "aiffel",
   "language": "python",
   "name": "python3"
  },
  "language_info": {
   "codemirror_mode": {
    "name": "ipython",
    "version": 3
   },
   "file_extension": ".py",
   "mimetype": "text/x-python",
   "name": "python",
   "nbconvert_exporter": "python",
   "pygments_lexer": "ipython3",
   "version": "3.9.7"
  }
 },
 "nbformat": 4,
 "nbformat_minor": 2
}
